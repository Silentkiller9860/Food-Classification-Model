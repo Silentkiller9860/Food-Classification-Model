{
 "cells": [
  {
   "cell_type": "code",
   "execution_count": 1,
   "metadata": {
    "_cell_guid": "b1076dfc-b9ad-4769-8c92-a6c4dae69d19",
    "_uuid": "8f2839f25d086af736a60e9eeb907d3b93b6e0e5",
    "execution": {
     "iopub.execute_input": "2021-11-14T11:17:50.928662Z",
     "iopub.status.busy": "2021-11-14T11:17:50.928341Z",
     "iopub.status.idle": "2021-11-14T11:17:51.529255Z",
     "shell.execute_reply": "2021-11-14T11:17:51.528552Z",
     "shell.execute_reply.started": "2021-11-14T11:17:50.928577Z"
    }
   },
   "outputs": [],
   "source": [
    "# This Python 3 environment comes with many helpful analytics libraries installed\n",
    "# It is defined by the kaggle/python Docker image: https://github.com/kaggle/docker-python\n",
    "# For example, here's several helpful packages to load\n",
    "\n",
    "import numpy as np \n",
    "import pandas as pd # data processing, CSV file I/O (e.g. pd.read_csv)\n",
    "\n",
    "# Input data files are available in the read-only \"../input/\" directory\n",
    "# For example, running this (by clicking run or pressing Shift+Enter) will list all files under the input directory\n",
    "\n",
    "import os\n",
    "for dirname, _, filenames in os.walk('/kaggle/input'):\n",
    "    for filename in filenames:\n",
    "        os.path.join(dirname, filename)\n",
    "\n",
    "# You can write up to 20GB to the current directory (/kaggle/working/) that gets preserved as output when you create a version using \"Save & Run All\" \n",
    "# You can also write temporary files to /kaggle/temp/, but they won't be saved outside of the current session"
   ]
  },
  {
   "cell_type": "code",
   "execution_count": 2,
   "metadata": {
    "execution": {
     "iopub.execute_input": "2021-11-14T11:17:51.531653Z",
     "iopub.status.busy": "2021-11-14T11:17:51.531316Z",
     "iopub.status.idle": "2021-11-14T11:17:51.591463Z",
     "shell.execute_reply": "2021-11-14T11:17:51.590843Z",
     "shell.execute_reply.started": "2021-11-14T11:17:51.531614Z"
    }
   },
   "outputs": [],
   "source": [
    "for dirname, _, filenames in os.walk('/kaggle/input'):\n",
    "    print(dirname)"
   ]
  },
  {
   "cell_type": "code",
   "execution_count": 37,
   "metadata": {
    "execution": {
     "iopub.execute_input": "2021-11-14T12:08:29.862365Z",
     "iopub.status.busy": "2021-11-14T12:08:29.861677Z",
     "iopub.status.idle": "2021-11-14T12:08:29.873773Z",
     "shell.execute_reply": "2021-11-14T12:08:29.872485Z",
     "shell.execute_reply.started": "2021-11-14T12:08:29.862328Z"
    }
   },
   "outputs": [],
   "source": [
    "for i in os.listdir('/kaggle/input/indian-food-classification/dataset/Dataset/val/samosa'):\n",
    "    print(i)\n",
    "    break\n",
    "\n"
   ]
  },
  {
   "cell_type": "code",
   "execution_count": 3,
   "metadata": {
    "execution": {
     "iopub.execute_input": "2021-11-14T11:17:51.592902Z",
     "iopub.status.busy": "2021-11-14T11:17:51.592627Z",
     "iopub.status.idle": "2021-11-14T11:17:56.343803Z",
     "shell.execute_reply": "2021-11-14T11:17:56.342992Z",
     "shell.execute_reply.started": "2021-11-14T11:17:51.592866Z"
    }
   },
   "outputs": [],
   "source": [
    "import os\n",
    "import cv2\n",
    "import numpy as np\n",
    "import random\n",
    "import matplotlib.pyplot as plt\n",
    "from tensorflow.keras.layers import Input, Lambda, Dense, Flatten\n",
    "from tensorflow.keras.models import Model\n",
    "from tensorflow.keras.applications.inception_v3 import InceptionV3\n",
    "#from keras.applications.vgg16 import VGG16\n",
    "from tensorflow.keras.applications.inception_v3 import preprocess_input\n",
    "from tensorflow.keras.preprocessing import image\n",
    "from tensorflow.keras.preprocessing.image import ImageDataGenerator,load_img\n",
    "from tensorflow.keras.models import Sequential\n",
    "import numpy as np\n",
    "from glob import glob\n",
    "import matplotlib.pyplot as plt"
   ]
  },
  {
   "cell_type": "code",
   "execution_count": 4,
   "metadata": {
    "execution": {
     "iopub.execute_input": "2021-11-14T11:17:56.347566Z",
     "iopub.status.busy": "2021-11-14T11:17:56.346627Z",
     "iopub.status.idle": "2021-11-14T11:17:56.353479Z",
     "shell.execute_reply": "2021-11-14T11:17:56.352890Z",
     "shell.execute_reply.started": "2021-11-14T11:17:56.347526Z"
    }
   },
   "outputs": [],
   "source": [
    "import tensorflow as tf\n",
    "# from tf_explain.core.activations import ExtractActivations\n",
    "from tensorflow.keras.applications.xception import decode_predictions\n",
    "%matplotlib inline"
   ]
  },
  {
   "cell_type": "code",
   "execution_count": 5,
   "metadata": {
    "execution": {
     "iopub.execute_input": "2021-11-14T11:17:56.355987Z",
     "iopub.status.busy": "2021-11-14T11:17:56.355518Z",
     "iopub.status.idle": "2021-11-14T11:17:56.376906Z",
     "shell.execute_reply": "2021-11-14T11:17:56.376198Z",
     "shell.execute_reply.started": "2021-11-14T11:17:56.355950Z"
    }
   },
   "outputs": [],
   "source": [
    "IMAGE_SIZE = [299, 299]\n",
    "\n",
    "train_path = '/kaggle/input/indian-food-classification/dataset/Dataset/train'\n",
    "valid_path = '/kaggle/input/indian-food-classification/dataset/Dataset/val'"
   ]
  },
  {
   "cell_type": "code",
   "execution_count": 6,
   "metadata": {
    "collapsed": true,
    "execution": {
     "iopub.execute_input": "2021-11-14T11:17:56.378729Z",
     "iopub.status.busy": "2021-11-14T11:17:56.378137Z",
     "iopub.status.idle": "2021-11-14T11:18:00.667172Z",
     "shell.execute_reply": "2021-11-14T11:18:00.666470Z",
     "shell.execute_reply.started": "2021-11-14T11:17:56.378671Z"
    },
    "jupyter": {
     "outputs_hidden": true
    }
   },
   "outputs": [],
   "source": [
    "inception=tf.keras.applications.xception.Xception(input_shape=IMAGE_SIZE + [3], weights='imagenet', include_top=False)"
   ]
  },
  {
   "cell_type": "code",
   "execution_count": 7,
   "metadata": {
    "execution": {
     "iopub.execute_input": "2021-11-14T11:18:00.668758Z",
     "iopub.status.busy": "2021-11-14T11:18:00.668498Z",
     "iopub.status.idle": "2021-11-14T11:18:00.673042Z",
     "shell.execute_reply": "2021-11-14T11:18:00.671991Z",
     "shell.execute_reply.started": "2021-11-14T11:18:00.668715Z"
    }
   },
   "outputs": [],
   "source": [
    "# inception = InceptionV3(input_shape=IMAGE_SIZE + [3], weights='imagenet', include_top=False)"
   ]
  },
  {
   "cell_type": "code",
   "execution_count": 8,
   "metadata": {
    "execution": {
     "iopub.execute_input": "2021-11-14T11:18:00.675261Z",
     "iopub.status.busy": "2021-11-14T11:18:00.674625Z",
     "iopub.status.idle": "2021-11-14T11:18:00.689270Z",
     "shell.execute_reply": "2021-11-14T11:18:00.688639Z",
     "shell.execute_reply.started": "2021-11-14T11:18:00.675223Z"
    }
   },
   "outputs": [],
   "source": [
    "for layer in inception.layers:\n",
    "    layer.trainable = False"
   ]
  },
  {
   "cell_type": "code",
   "execution_count": 9,
   "metadata": {
    "execution": {
     "iopub.execute_input": "2021-11-14T11:18:00.690958Z",
     "iopub.status.busy": "2021-11-14T11:18:00.690441Z",
     "iopub.status.idle": "2021-11-14T11:18:00.704259Z",
     "shell.execute_reply": "2021-11-14T11:18:00.703591Z",
     "shell.execute_reply.started": "2021-11-14T11:18:00.690881Z"
    }
   },
   "outputs": [],
   "source": [
    "folders = glob('/kaggle/input/indian-food-classification/dataset/Dataset/train/*')\n",
    "len(folders)"
   ]
  },
  {
   "cell_type": "code",
   "execution_count": 10,
   "metadata": {
    "execution": {
     "iopub.execute_input": "2021-11-14T11:18:00.707092Z",
     "iopub.status.busy": "2021-11-14T11:18:00.706910Z",
     "iopub.status.idle": "2021-11-14T11:18:00.733796Z",
     "shell.execute_reply": "2021-11-14T11:18:00.733189Z",
     "shell.execute_reply.started": "2021-11-14T11:18:00.707070Z"
    }
   },
   "outputs": [],
   "source": [
    "x = Flatten()(inception.output)\n",
    "prediction = Dense(len(folders), activation='softmax')(x)\n",
    "\n",
    "# create a model object\n",
    "model = Model(inputs=inception.input, outputs=prediction)"
   ]
  },
  {
   "cell_type": "code",
   "execution_count": 11,
   "metadata": {
    "collapsed": true,
    "execution": {
     "iopub.execute_input": "2021-11-14T11:18:00.735241Z",
     "iopub.status.busy": "2021-11-14T11:18:00.735029Z",
     "iopub.status.idle": "2021-11-14T11:18:00.937052Z",
     "shell.execute_reply": "2021-11-14T11:18:00.936371Z",
     "shell.execute_reply.started": "2021-11-14T11:18:00.735211Z"
    },
    "jupyter": {
     "outputs_hidden": true
    }
   },
   "outputs": [],
   "source": [
    "model.summary()"
   ]
  },
  {
   "cell_type": "code",
   "execution_count": 12,
   "metadata": {
    "execution": {
     "iopub.execute_input": "2021-11-14T11:18:00.938717Z",
     "iopub.status.busy": "2021-11-14T11:18:00.938453Z",
     "iopub.status.idle": "2021-11-14T11:18:00.954046Z",
     "shell.execute_reply": "2021-11-14T11:18:00.953392Z",
     "shell.execute_reply.started": "2021-11-14T11:18:00.938668Z"
    }
   },
   "outputs": [],
   "source": [
    "model.compile(\n",
    "  loss='categorical_crossentropy',\n",
    "  optimizer='adam',\n",
    "  metrics=['accuracy']\n",
    ")"
   ]
  },
  {
   "cell_type": "code",
   "execution_count": 13,
   "metadata": {
    "execution": {
     "iopub.execute_input": "2021-11-14T11:18:00.957094Z",
     "iopub.status.busy": "2021-11-14T11:18:00.956902Z",
     "iopub.status.idle": "2021-11-14T11:18:00.963854Z",
     "shell.execute_reply": "2021-11-14T11:18:00.963275Z",
     "shell.execute_reply.started": "2021-11-14T11:18:00.957071Z"
    }
   },
   "outputs": [],
   "source": [
    "from tensorflow.keras.preprocessing.image import ImageDataGenerator\n",
    "\n",
    "train_datagen = ImageDataGenerator(rescale = 1./255,\n",
    "                                   shear_range = 0.2,\n",
    "                                   zoom_range = 0.2,\n",
    "                                   horizontal_flip = True)\n",
    "\n",
    "test_datagen = ImageDataGenerator(rescale = 1./255)"
   ]
  },
  {
   "cell_type": "code",
   "execution_count": 14,
   "metadata": {
    "execution": {
     "iopub.execute_input": "2021-11-14T11:18:00.967947Z",
     "iopub.status.busy": "2021-11-14T11:18:00.967707Z",
     "iopub.status.idle": "2021-11-14T11:18:01.083018Z",
     "shell.execute_reply": "2021-11-14T11:18:01.082315Z",
     "shell.execute_reply.started": "2021-11-14T11:18:00.967923Z"
    }
   },
   "outputs": [],
   "source": [
    "training_set = train_datagen.flow_from_directory('/kaggle/input/indian-food-classification/dataset/Dataset/train',\n",
    "                                                 target_size = (299, 299),\n",
    "                                                 batch_size = 32,\n",
    "                                                 class_mode = 'categorical')"
   ]
  },
  {
   "cell_type": "code",
   "execution_count": 15,
   "metadata": {
    "execution": {
     "iopub.execute_input": "2021-11-14T11:18:01.084349Z",
     "iopub.status.busy": "2021-11-14T11:18:01.084113Z",
     "iopub.status.idle": "2021-11-14T11:18:01.192390Z",
     "shell.execute_reply": "2021-11-14T11:18:01.191733Z",
     "shell.execute_reply.started": "2021-11-14T11:18:01.084314Z"
    }
   },
   "outputs": [],
   "source": [
    "test_set = test_datagen.flow_from_directory('/kaggle/input/indian-food-classification/dataset/Dataset/val',\n",
    "                                            target_size = (299, 299),\n",
    "                                            batch_size = 32,\n",
    "                                            class_mode = 'categorical')"
   ]
  },
  {
   "cell_type": "code",
   "execution_count": 16,
   "metadata": {
    "execution": {
     "iopub.execute_input": "2021-11-14T11:18:01.193805Z",
     "iopub.status.busy": "2021-11-14T11:18:01.193540Z",
     "iopub.status.idle": "2021-11-14T11:52:09.399836Z",
     "shell.execute_reply": "2021-11-14T11:52:09.399122Z",
     "shell.execute_reply.started": "2021-11-14T11:18:01.193770Z"
    }
   },
   "outputs": [],
   "source": [
    "r = model.fit( \n",
    "  training_set,\n",
    "  validation_data=test_set,\n",
    "  epochs=10,\n",
    "  verbose=1,\n",
    "  steps_per_epoch=len(training_set),\n",
    "  validation_steps=len(test_set)\n",
    ")"
   ]
  },
  {
   "cell_type": "code",
   "execution_count": 21,
   "metadata": {
    "execution": {
     "iopub.execute_input": "2021-11-14T11:57:54.862246Z",
     "iopub.status.busy": "2021-11-14T11:57:54.861981Z",
     "iopub.status.idle": "2021-11-14T11:57:55.383271Z",
     "shell.execute_reply": "2021-11-14T11:57:55.382377Z",
     "shell.execute_reply.started": "2021-11-14T11:57:54.862217Z"
    }
   },
   "outputs": [],
   "source": [
    "from tensorflow.keras.models import load_model\n",
    "\n",
    "model.save('model_Xception.h5')"
   ]
  },
  {
   "cell_type": "code",
   "execution_count": 18,
   "metadata": {
    "execution": {
     "iopub.execute_input": "2021-11-14T11:53:33.676787Z",
     "iopub.status.busy": "2021-11-14T11:53:33.676505Z",
     "iopub.status.idle": "2021-11-14T11:53:34.080803Z",
     "shell.execute_reply": "2021-11-14T11:53:34.080042Z",
     "shell.execute_reply.started": "2021-11-14T11:53:33.676756Z"
    }
   },
   "outputs": [],
   "source": [
    "# plot the loss\n",
    "plt.plot(r.history['loss'], label='train loss')\n",
    "plt.plot(r.history['val_loss'], label='val loss')\n",
    "plt.legend()\n",
    "plt.show()\n",
    "plt.savefig('LossVal_loss')\n",
    "\n",
    "# plot the accuracy\n",
    "plt.plot(r.history['accuracy'], label='train acc')\n",
    "plt.plot(r.history['val_accuracy'], label='val acc')\n",
    "plt.legend()\n",
    "plt.show()\n",
    "plt.savefig('AccVal_acc')"
   ]
  },
  {
   "cell_type": "code",
   "execution_count": 20,
   "metadata": {
    "execution": {
     "iopub.execute_input": "2021-11-14T11:54:52.708317Z",
     "iopub.status.busy": "2021-11-14T11:54:52.708028Z",
     "iopub.status.idle": "2021-11-14T11:54:52.712452Z",
     "shell.execute_reply": "2021-11-14T11:54:52.711564Z",
     "shell.execute_reply.started": "2021-11-14T11:54:52.708288Z"
    }
   },
   "outputs": [],
   "source": [
    "from tensorflow.keras.preprocessing import image"
   ]
  },
  {
   "cell_type": "code",
   "execution_count": 43,
   "metadata": {
    "execution": {
     "iopub.execute_input": "2021-11-14T12:09:20.547445Z",
     "iopub.status.busy": "2021-11-14T12:09:20.546711Z",
     "iopub.status.idle": "2021-11-14T12:09:20.861524Z",
     "shell.execute_reply": "2021-11-14T12:09:20.860724Z",
     "shell.execute_reply.started": "2021-11-14T12:09:20.547397Z"
    }
   },
   "outputs": [],
   "source": [
    "category={\n",
    "    0: ['burger','Burger'], 1: ['butter_naan','Butter Naan'], 2: ['chai','Chai'],\n",
    "    3: ['chapati','Chapati'], 4: ['chole_bhature','Chole Bhature'], 5: ['dal_makhani','Dal Makhani'],\n",
    "    6: ['dhokla','Dhokla'], 7: ['fried_rice','Fried Rice'], 8: ['idli','Idli'], 9: ['jalegi','Jalebi'],\n",
    "    10: ['kathi_rolls','Kaathi Rolls'], 11: ['kadai_paneer','Kadai Paneer'], 12: ['kulfi','Kulfi'],\n",
    "    13: ['masala_dosa','Masala Dosa'], 14: ['momos','Momos'], 15: ['paani_puri','Paani Puri'],\n",
    "    16: ['pakode','Pakode'], 17: ['pav_bhaji','Pav Bhaji'], 18: ['pizza','Pizza'], 19: ['samosa','Samosa']\n",
    "}\n",
    "\n",
    "def predict_image(filename , model):\n",
    "    img_ = image.load_img(filename , target_size = (299,299))\n",
    "    img_array = image.img_to_array(img_)\n",
    "    img_processed = np.expand_dims(img_array , axis = 0)\n",
    "    img_processed /= 255.\n",
    "\n",
    "    prediction = model.predict(img_processed)\n",
    "    index = np.argmax(prediction)\n",
    "\n",
    "    plt.title(\"Prediction - {}\".format(category[index][1]))\n",
    "    plt.imshow(img_array)\n",
    "    \n",
    "predict_image('/kaggle/input/indian-food-classification/dataset/Dataset/val/samosa/012.jpg' , model)"
   ]
  },
  {
   "cell_type": "code",
   "execution_count": null,
   "metadata": {},
   "outputs": [],
   "source": []
  },
  {
   "cell_type": "code",
   "execution_count": null,
   "metadata": {},
   "outputs": [],
   "source": []
  }
 ],
 "metadata": {
  "kernelspec": {
   "display_name": "Python 3",
   "language": "python",
   "name": "python3"
  },
  "language_info": {
   "codemirror_mode": {
    "name": "ipython",
    "version": 3
   },
   "file_extension": ".py",
   "mimetype": "text/x-python",
   "name": "python",
   "nbconvert_exporter": "python",
   "pygments_lexer": "ipython3",
   "version": "3.7.1"
  }
 },
 "nbformat": 4,
 "nbformat_minor": 4
}
